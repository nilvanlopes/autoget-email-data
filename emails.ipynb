{
 "cells": [
  {
   "cell_type": "code",
   "execution_count": null,
   "metadata": {},
   "outputs": [],
   "source": [
    "import numpy as np\n",
    "import pandas as pd\n",
    "import re\n",
    "from unidecode import unidecode"
   ]
  },
  {
   "cell_type": "code",
   "execution_count": null,
   "metadata": {},
   "outputs": [],
   "source": [
    "userdataoriginal = pd.read_excel('userdata.xlsx')\n",
    "chamadosregistro = pd.read_excel('chamados.xlsx')\n",
    "emailsgoogle = pd.read_excel('emailsgoogle.xlsx')\n",
    "emzimbra = pd.read_excel('emailszimbra.xlsx')\n",
    "userdata = userdataoriginal\n",
    "userdata=userdata.fillna(' ')\n",
    "chamadosregistro.head(2)"
   ]
  },
  {
   "cell_type": "code",
   "execution_count": null,
   "metadata": {},
   "outputs": [],
   "source": [
    "ncham = 'R54341'\n",
    "migrar = 'Não'\n",
    "descham = 'Criação de email'\n",
    "matricula = 353453\n",
    "efetivado = 'Não'\n",
    "observacoes = ' '"
   ]
  },
  {
   "cell_type": "code",
   "execution_count": null,
   "metadata": {},
   "outputs": [],
   "source": [
    "\n",
    "res = userdata[userdata['matricula']==matricula]\n",
    "res = res.reset_index()\n",
    "res = res.drop(['index'],axis=1)\n",
    "res\n"
   ]
  },
  {
   "cell_type": "code",
   "execution_count": null,
   "metadata": {},
   "outputs": [],
   "source": [
    "nome = res['nome'][0]\n",
    "nome = nome.split()\n",
    "sobrenome = nome[1:]\n",
    "sobrenome =  ' '.join(nome[1:])"
   ]
  },
  {
   "cell_type": "code",
   "execution_count": null,
   "metadata": {},
   "outputs": [],
   "source": [
    "empdr = nome[0]+'.'+nome[-1]+'@tjto.jus.br'\n",
    "empdr = empdr.lower()\n",
    "empdr = unidecode(empdr)\n",
    "\n",
    "if empdr in emailsgoogle['email'].values:\n",
    "   print('email já existe')\n",
    "   emcds = emailsgoogle[emailsgoogle['email']==empdr]\n",
    "   print(emcds)"
   ]
  },
  {
   "cell_type": "code",
   "execution_count": null,
   "metadata": {},
   "outputs": [],
   "source": [
    "lotacao = res['lotacao'][0]\n",
    "lotacao = lotacao.split('-')\n",
    "lotacao[-1]\n",
    "lotacao[-2]"
   ]
  },
  {
   "cell_type": "code",
   "execution_count": null,
   "metadata": {},
   "outputs": [],
   "source": [
    "cargo = ' '\n",
    "funcao = ' '\n",
    "if res['cargo'][0]!=' ': cargo =  res['cargo'][0]\n",
    "if res['funcao'][0]!=' ': funcao = res['funcao'][0]\n",
    "if cargo==' ' : \n",
    "    cargo = funcao\n",
    "    funcao = ' '\n",
    "if(cargo!=' ' and funcao!=' '): cargo = cargo+'-'+funcao\n",
    "cargo = re.sub('DAJ/.',' ',cargo)\n",
    "cargo\n",
    "\n"
   ]
  },
  {
   "cell_type": "code",
   "execution_count": null,
   "metadata": {},
   "outputs": [],
   "source": [
    "emzimbrares = ' '\n",
    "desc = emzimbra['Descrição']\n",
    "for i in range(len(desc)):\n",
    "    if type(desc[i])==str:\n",
    "        if res['nome'][0].lower() in desc[i].lower():\n",
    "            emzimbrares = emzimbra.iloc[i]\n",
    "emzimbrares"
   ]
  },
  {
   "cell_type": "code",
   "execution_count": null,
   "metadata": {},
   "outputs": [],
   "source": [
    "ln = {\n",
    "    'Nome Completo':res['nome'],\n",
    "    'Nome':nome[0],\n",
    "    'Sobrenome':sobrenome,\n",
    "    'UO':lotacao[-2],\n",
    "    'Matrícula':res['matricula'],\n",
    "    'Lotação':lotacao[-1],\n",
    "    'Cargo':cargo,\n",
    "    'Email zimbra':emzimbrares[0],\n",
    "    'Email Workspace':empdr,\n",
    "    'Alias Workspace':emzimbrares[0],\n",
    "    'Migrar?':migrar,\n",
    "    'Descrição do Chamado':descham,\n",
    "    'Chamado':ncham,\n",
    "    'Efetivado?':efetivado,\n",
    "    'Observações':observacoes}\n",
    "ln = pd.DataFrame(ln)\n",
    "ln\n"
   ]
  },
  {
   "cell_type": "code",
   "execution_count": null,
   "metadata": {},
   "outputs": [],
   "source": [
    "chamadosregistro = pd.concat([chamadosregistro,ln])\n",
    "chamadosregistro.head()"
   ]
  },
  {
   "cell_type": "code",
   "execution_count": null,
   "metadata": {},
   "outputs": [],
   "source": [
    "ln.to_clipboard(index=False,header=False)"
   ]
  },
  {
   "cell_type": "code",
   "execution_count": null,
   "metadata": {},
   "outputs": [],
   "source": [
    "chamadosregistro.to_excel('chamados.xlsx',index=False)\n",
    "\n",
    "\n",
    "Descontinuado"
   ]
  }
 ],
 "metadata": {
  "kernelspec": {
   "display_name": "Python 3.10.6 64-bit",
   "language": "python",
   "name": "python3"
  },
  "language_info": {
   "codemirror_mode": {
    "name": "ipython",
    "version": 3
   },
   "file_extension": ".py",
   "mimetype": "text/x-python",
   "name": "python",
   "nbconvert_exporter": "python",
   "pygments_lexer": "ipython3",
   "version": "3.10.6"
  },
  "orig_nbformat": 4,
  "vscode": {
   "interpreter": {
    "hash": "d141c0b8346b30825bb38d06bb406e61b271b44cb1f9e86ef6a30b8351d3ce90"
   }
  }
 },
 "nbformat": 4,
 "nbformat_minor": 2
}
